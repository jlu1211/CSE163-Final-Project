{
  "nbformat": 4,
  "nbformat_minor": 0,
  "metadata": {
    "colab": {
      "provenance": [],
      "mount_file_id": "110w01h8tPxgyIAJKF4gsoBZqCLR7p_F7",
      "authorship_tag": "ABX9TyOu7tfajwZFF/i9vW+KVix/",
      "include_colab_link": true
    },
    "kernelspec": {
      "name": "python3",
      "display_name": "Python 3"
    },
    "language_info": {
      "name": "python"
    }
  },
  "cells": [
    {
      "cell_type": "markdown",
      "metadata": {
        "id": "view-in-github",
        "colab_type": "text"
      },
      "source": [
        "<a href=\"https://colab.research.google.com/github/jlu1211/CSE163-Final-Project/blob/main/CSE_163_Final_Project.ipynb\" target=\"_parent\"><img src=\"https://colab.research.google.com/assets/colab-badge.svg\" alt=\"Open In Colab\"/></a>"
      ]
    },
    {
      "cell_type": "code",
      "execution_count": 127,
      "metadata": {
        "id": "Ee0nhWZpxZ4u"
      },
      "outputs": [],
      "source": [
        "# Import all necessary libraries\n",
        "import numpy as np\n",
        "import matplotlib.pyplot as plt\n",
        "import pandas as pd\n",
        "import seaborn as sns\n",
        "import matplotlib.pyplot as plt\n",
        "import plotly.graph_objects as go\n",
        "from sklearn.model_selection import train_test_split\n",
        "from matplotlib.projections.polar import RadialAxis\n",
        "from sklearn.tree import DecisionTreeRegressor\n",
        "from sklearn.metrics import mean_squared_error\n",
        "sns.set()"
      ]
    },
    {
      "cell_type": "code",
      "source": [
        "# Data Cleaning\n",
        "url = 'https://raw.githubusercontent.com/jlu1211/CSE163-Final-Project/main/Basketball_Shoes%20-%20Sheet1.csv?token=GHSAT0AAAAAACDICY72ZIJZXE5BECE6OLISZDVCBQA'\n",
        "data = pd.read_csv(url)\n",
        "data = data.drop(0)\n",
        "data = data.reset_index(drop=True)\n",
        "data_general = data.drop(['Heel-to-toe Offset', 'Recent Release', 'Asia Brand?', 'Budget Shoe? ($100)', 'Sizing Recommendation', 'Sizing Notes'], axis=1)\n",
        "data_general['MSRP'] = data_general['MSRP'].str.replace('$', '').astype(int)\n",
        "data_brand_avg = data_general.drop(['Year of Release', 'Weight per shoe (US9)'], axis=1).groupby('Brand').mean()\n",
        "data_brand_avg"
      ],
      "metadata": {
        "id": "QsOTqF1W0UJl"
      },
      "execution_count": null,
      "outputs": []
    },
    {
      "cell_type": "code",
      "source": [
        "# Research Question 1\n",
        "def plot_scat_reg(data, x_col, y_col):\n",
        "    data = data[['Brand', x_col, y_col]]\n",
        "    top_brands = data['Brand'].value_counts().nlargest(4).index.tolist()\n",
        "    data_top_brands = data[data['Brand'].isin(top_brands)]\n",
        "    shoe_num = data_top_brands['Brand'].value_counts()\n",
        "\n",
        "    palette = ['#1f77b4', '#ff7f0e', '#2ca02c', '#d62728']\n",
        "\n",
        "    # Create the scatter plot with colored points\n",
        "    sns.scatterplot(x=x_col, y=y_col, hue='Brand', data=data_top_brands, s=50)\n",
        "\n",
        "    # Regression Line and Correlation\n",
        "    correlations = []\n",
        "    for brand, color in zip(top_brands, palette):\n",
        "        single_brand_data = data_top_brands[data_top_brands['Brand'] == brand]\n",
        "        brand_trac_corr = single_brand_data[x_col].corr(single_brand_data[y_col])\n",
        "        correlations.append(brand_trac_corr)\n",
        "        sns.regplot(x=x_col, y=y_col, data=single_brand_data, ci=None, color=color)\n",
        "\n",
        "\n",
        "    avg_corr = np.mean(correlations)\n",
        "    legend_labels = [f'{brand} ({count}), Correlation: {corr:.2f}' for brand, count, corr in zip(shoe_num.index, shoe_num.values, correlations)]\n",
        "    legend_labels.append(f'Average Correlation: {avg_corr:.2f}')\n",
        "    legend_handles = [plt.Line2D([], [], color=color, marker='o', linestyle='', markersize=8) for color in palette]\n",
        "    legend_handles.append(plt.Line2D([], [], color='black', marker='o', linestyle='', markersize=8))\n",
        "    plt.title(f'{x_col} vs {y_col} for Top {4} Brands')\n",
        "    plt.xlabel(x_col)\n",
        "    plt.ylabel(y_col)\n",
        "\n",
        "    plt.legend(title='Brand', bbox_to_anchor=(1.05, 1), loc='best', labels=legend_labels, handles=legend_handles)\n",
        "    plt.show()\n",
        "\n",
        "def plot_attributes_vs_overall(data):\n",
        "  attributes = data.columns[2:10]\n",
        "  for attribute in attributes:\n",
        "    plot_scat_reg(data, attribute, 'Overall Rating')\n",
        "plot_attributes_vs_overall(data_general)"
      ],
      "metadata": {
        "id": "d4ec6MMboukZ"
      },
      "execution_count": null,
      "outputs": []
    },
    {
      "cell_type": "code",
      "source": [
        "# Plot all brands radar by their attributes\n",
        "attributes = data_brand_avg.columns[0:8]\n",
        "brands = data_brand_avg.index.tolist()\n",
        "\n",
        "def radar_plot_trac_vent(data, brands):\n",
        "  for brand in range(len(brands)):\n",
        "    plot_radar(data, brand)\n",
        "\n",
        "\n",
        "def plot_radar(data, brand_index):\n",
        "  attribute_data = data.iloc[brand_index, 0:8].values.tolist()\n",
        "  fig = go.Figure(data=go.Scatterpolar(\n",
        "      r=attribute_data,\n",
        "      theta=attributes,\n",
        "      name=data.index[brand_index],\n",
        "      fill='toself'\n",
        "  ))\n",
        "\n",
        "  fig.update_layout(\n",
        "      polar=dict(\n",
        "          radialaxis=dict(\n",
        "              visible=True\n",
        "          ),\n",
        "      ),\n",
        "      showlegend=True\n",
        "  )\n",
        "  fig.show()\n",
        "\n",
        "radar_plot_trac_vent(data_brand_avg, brands)"
      ],
      "metadata": {
        "id": "nDasXHV73jsN"
      },
      "execution_count": null,
      "outputs": []
    },
    {
      "cell_type": "code",
      "source": [
        "# Radar plot that compare four brands attributes by comparing back to back\n",
        "def plot_two_brand_radar(data, brands, attributes):\n",
        "  for brand in brands:\n",
        "    print(brand)\n",
        "    compare_top_four_brands(data, brand, attributes)\n",
        "\n",
        "def compare_top_four_brands(data, brands, attributes):\n",
        "    brand1 = brands[0]\n",
        "    brand2 = brands[1]\n",
        "    brand1_index = data.index.get_loc(brand1)\n",
        "    brand2_index = data.index.get_loc(brand2)\n",
        "\n",
        "    fig = go.Figure()\n",
        "\n",
        "    fig.add_trace(go.Scatterpolar(\n",
        "        r=data.iloc[brand1_index, 0:8].values.tolist(),\n",
        "        theta=attributes,\n",
        "        fill='toself',\n",
        "        name=brand1\n",
        "    ))\n",
        "    fig.add_trace(go.Scatterpolar(\n",
        "        r=data.iloc[brand2_index, 0:8].values.tolist(),\n",
        "        theta=attributes,\n",
        "        fill='toself',\n",
        "        name=brand2\n",
        "    ))\n",
        "    fig.update_layout(\n",
        "      polar=dict(\n",
        "        radialaxis=dict(\n",
        "          visible=True,\n",
        "        )),\n",
        "      showlegend=True\n",
        "    )\n",
        "\n",
        "    fig.show()\n",
        "\n",
        "top_four_brands = [['NIKE', 'ADIDAS'], ['NIKE', 'LI-NING'], ['NIKE', 'JORDAN'],\n",
        "               ['ADIDAS', 'LI-NING'], ['ADIDAS', 'JORDAN'], ['LI-NING', 'JORDAN']]\n",
        "attributes = data_brand_avg.columns[0:8]\n",
        "plot_two_brand_radar(data_brand_avg, top_four_brands, attributes)"
      ],
      "metadata": {
        "id": "704nWK5XF5Qt"
      },
      "execution_count": null,
      "outputs": []
    }
  ]
}